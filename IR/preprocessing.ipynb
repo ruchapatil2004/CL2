{
 "cells": [
  {
   "cell_type": "code",
   "execution_count": 1,
   "id": "0ba3f551-e674-4004-b91c-2d0f880a72a8",
   "metadata": {},
   "outputs": [
    {
     "name": "stdout",
     "output_type": "stream",
     "text": [
      "Requirement already satisfied: nltk in c:\\users\\hp\\qiskit_env_new\\lib\\site-packages (3.9.1)\n",
      "Requirement already satisfied: click in c:\\users\\hp\\qiskit_env_new\\lib\\site-packages (from nltk) (8.1.7)\n",
      "Requirement already satisfied: joblib in c:\\users\\hp\\qiskit_env_new\\lib\\site-packages (from nltk) (1.4.2)\n",
      "Requirement already satisfied: regex>=2021.8.3 in c:\\users\\hp\\qiskit_env_new\\lib\\site-packages (from nltk) (2024.11.6)\n",
      "Requirement already satisfied: tqdm in c:\\users\\hp\\qiskit_env_new\\lib\\site-packages (from nltk) (4.67.0)\n",
      "Requirement already satisfied: colorama in c:\\users\\hp\\qiskit_env_new\\lib\\site-packages (from click->nltk) (0.4.6)\n",
      "Note: you may need to restart the kernel to use updated packages.\n"
     ]
    },
    {
     "name": "stderr",
     "output_type": "stream",
     "text": [
      "\n",
      "[notice] A new release of pip is available: 24.0 -> 24.3.1\n",
      "[notice] To update, run: python.exe -m pip install --upgrade pip\n"
     ]
    }
   ],
   "source": [
    "pip install nltk"
   ]
  },
  {
   "cell_type": "code",
   "execution_count": 2,
   "id": "89bfaea7-f879-44c3-9155-ae61d4ac40de",
   "metadata": {},
   "outputs": [],
   "source": [
    "import nltk\n",
    "from string import punctuation\n",
    "from nltk.corpus import stopwords\n",
    "from nltk.tokenize import sent_tokenize, word_tokenize"
   ]
  },
  {
   "cell_type": "code",
   "execution_count": 3,
   "id": "8574e7a6-68e2-48d8-88cc-0824622eb141",
   "metadata": {},
   "outputs": [
    {
     "name": "stderr",
     "output_type": "stream",
     "text": [
      "[nltk_data] Downloading package stopwords to\n",
      "[nltk_data]     C:\\Users\\hp\\AppData\\Roaming\\nltk_data...\n",
      "[nltk_data]   Package stopwords is already up-to-date!\n"
     ]
    },
    {
     "data": {
      "text/plain": [
       "True"
      ]
     },
     "execution_count": 3,
     "metadata": {},
     "output_type": "execute_result"
    }
   ],
   "source": [
    "nltk.download('stopwords')"
   ]
  },
  {
   "cell_type": "code",
   "execution_count": 4,
   "id": "ffd4f8ac-7308-49c9-b9e1-7dfe03fd0be1",
   "metadata": {},
   "outputs": [
    {
     "name": "stderr",
     "output_type": "stream",
     "text": [
      "[nltk_data] Downloading package punkt to\n",
      "[nltk_data]     C:\\Users\\hp\\AppData\\Roaming\\nltk_data...\n",
      "[nltk_data]   Package punkt is already up-to-date!\n"
     ]
    },
    {
     "data": {
      "text/plain": [
       "True"
      ]
     },
     "execution_count": 4,
     "metadata": {},
     "output_type": "execute_result"
    }
   ],
   "source": [
    "nltk.download('punkt')"
   ]
  },
  {
   "cell_type": "code",
   "execution_count": 9,
   "id": "2449cd37-507f-4420-8db3-d35116467d33",
   "metadata": {},
   "outputs": [],
   "source": [
    "doc = \"Artificial Intelligence is the intelligence possessed by the machines under which they can perform various functions with human help. With the help of A.I, machines will be able to learn, solve problems, plan things, think, etc. Artificial Intelligence, for example, is the simulation of human intelligence by machines. In the field of technology, Artificial Intelligence is evolving rapidly day by day and it is believed that in the near future, artificial intelligence is going to change human life very drastically and will most probably end all the crises of the world by sorting out the major problems.\""
   ]
  },
  {
   "cell_type": "code",
   "execution_count": 10,
   "id": "51737f0c-ed45-4b78-a80a-0f5b92c2b7b1",
   "metadata": {},
   "outputs": [
    {
     "name": "stderr",
     "output_type": "stream",
     "text": [
      "[nltk_data] Downloading package punkt_tab to\n",
      "[nltk_data]     C:\\Users\\hp\\AppData\\Roaming\\nltk_data...\n",
      "[nltk_data]   Package punkt_tab is already up-to-date!\n"
     ]
    },
    {
     "data": {
      "text/plain": [
       "True"
      ]
     },
     "execution_count": 10,
     "metadata": {},
     "output_type": "execute_result"
    }
   ],
   "source": [
    "nltk.download('punkt_tab')"
   ]
  },
  {
   "cell_type": "code",
   "execution_count": 11,
   "id": "5256f5b0-ea91-45d0-812c-f10d64ecc760",
   "metadata": {},
   "outputs": [
    {
     "data": {
      "text/plain": [
       "['Artificial',\n",
       " 'Intelligence',\n",
       " 'is',\n",
       " 'the',\n",
       " 'intelligence',\n",
       " 'possessed',\n",
       " 'by',\n",
       " 'the',\n",
       " 'machines',\n",
       " 'under',\n",
       " 'which',\n",
       " 'they',\n",
       " 'can',\n",
       " 'perform',\n",
       " 'various',\n",
       " 'functions',\n",
       " 'with',\n",
       " 'human',\n",
       " 'help',\n",
       " '.',\n",
       " 'With',\n",
       " 'the',\n",
       " 'help',\n",
       " 'of',\n",
       " 'A.I',\n",
       " ',',\n",
       " 'machines',\n",
       " 'will',\n",
       " 'be',\n",
       " 'able',\n",
       " 'to',\n",
       " 'learn',\n",
       " ',',\n",
       " 'solve',\n",
       " 'problems',\n",
       " ',',\n",
       " 'plan',\n",
       " 'things',\n",
       " ',',\n",
       " 'think',\n",
       " ',',\n",
       " 'etc',\n",
       " '.',\n",
       " 'Artificial',\n",
       " 'Intelligence',\n",
       " ',',\n",
       " 'for',\n",
       " 'example',\n",
       " ',',\n",
       " 'is',\n",
       " 'the',\n",
       " 'simulation',\n",
       " 'of',\n",
       " 'human',\n",
       " 'intelligence',\n",
       " 'by',\n",
       " 'machines',\n",
       " '.',\n",
       " 'In',\n",
       " 'the',\n",
       " 'field',\n",
       " 'of',\n",
       " 'technology',\n",
       " ',',\n",
       " 'Artificial',\n",
       " 'Intelligence',\n",
       " 'is',\n",
       " 'evolving',\n",
       " 'rapidly',\n",
       " 'day',\n",
       " 'by',\n",
       " 'day',\n",
       " 'and',\n",
       " 'it',\n",
       " 'is',\n",
       " 'believed',\n",
       " 'that',\n",
       " 'in',\n",
       " 'the',\n",
       " 'near',\n",
       " 'future',\n",
       " ',',\n",
       " 'artificial',\n",
       " 'intelligence',\n",
       " 'is',\n",
       " 'going',\n",
       " 'to',\n",
       " 'change',\n",
       " 'human',\n",
       " 'life',\n",
       " 'very',\n",
       " 'drastically',\n",
       " 'and',\n",
       " 'will',\n",
       " 'most',\n",
       " 'probably',\n",
       " 'end',\n",
       " 'all',\n",
       " 'the',\n",
       " 'crises',\n",
       " 'of',\n",
       " 'the',\n",
       " 'world',\n",
       " 'by',\n",
       " 'sorting',\n",
       " 'out',\n",
       " 'the',\n",
       " 'major',\n",
       " 'problems',\n",
       " '.']"
      ]
     },
     "execution_count": 11,
     "metadata": {},
     "output_type": "execute_result"
    }
   ],
   "source": [
    "words = word_tokenize(doc)\n",
    "words"
   ]
  },
  {
   "cell_type": "code",
   "execution_count": 12,
   "id": "03db971b-f7ba-49fe-9c66-a47ec6eb2428",
   "metadata": {},
   "outputs": [
    {
     "data": {
      "text/plain": [
       "110"
      ]
     },
     "execution_count": 12,
     "metadata": {},
     "output_type": "execute_result"
    }
   ],
   "source": [
    "len(words)"
   ]
  },
  {
   "cell_type": "code",
   "execution_count": 14,
   "id": "c9413088-c62a-48ff-820f-426d700adba0",
   "metadata": {},
   "outputs": [],
   "source": [
    "doc_tokenized = [word.lower() for word in words] #lowercase"
   ]
  },
  {
   "cell_type": "code",
   "execution_count": 16,
   "id": "30935c44-52e2-4e15-a974-68e42f288e20",
   "metadata": {},
   "outputs": [
    {
     "data": {
      "text/plain": [
       "['artificial',\n",
       " 'intelligence',\n",
       " 'is',\n",
       " 'the',\n",
       " 'intelligence',\n",
       " 'possessed',\n",
       " 'by',\n",
       " 'the',\n",
       " 'machines',\n",
       " 'under',\n",
       " 'which',\n",
       " 'they',\n",
       " 'can',\n",
       " 'perform',\n",
       " 'various',\n",
       " 'functions',\n",
       " 'with',\n",
       " 'human',\n",
       " 'help',\n",
       " '.',\n",
       " 'with',\n",
       " 'the',\n",
       " 'help',\n",
       " 'of',\n",
       " 'a.i',\n",
       " ',',\n",
       " 'machines',\n",
       " 'will',\n",
       " 'be',\n",
       " 'able',\n",
       " 'to',\n",
       " 'learn',\n",
       " ',',\n",
       " 'solve',\n",
       " 'problems',\n",
       " ',',\n",
       " 'plan',\n",
       " 'things',\n",
       " ',',\n",
       " 'think',\n",
       " ',',\n",
       " 'etc',\n",
       " '.',\n",
       " 'artificial',\n",
       " 'intelligence',\n",
       " ',',\n",
       " 'for',\n",
       " 'example',\n",
       " ',',\n",
       " 'is',\n",
       " 'the',\n",
       " 'simulation',\n",
       " 'of',\n",
       " 'human',\n",
       " 'intelligence',\n",
       " 'by',\n",
       " 'machines',\n",
       " '.',\n",
       " 'in',\n",
       " 'the',\n",
       " 'field',\n",
       " 'of',\n",
       " 'technology',\n",
       " ',',\n",
       " 'artificial',\n",
       " 'intelligence',\n",
       " 'is',\n",
       " 'evolving',\n",
       " 'rapidly',\n",
       " 'day',\n",
       " 'by',\n",
       " 'day',\n",
       " 'and',\n",
       " 'it',\n",
       " 'is',\n",
       " 'believed',\n",
       " 'that',\n",
       " 'in',\n",
       " 'the',\n",
       " 'near',\n",
       " 'future',\n",
       " ',',\n",
       " 'artificial',\n",
       " 'intelligence',\n",
       " 'is',\n",
       " 'going',\n",
       " 'to',\n",
       " 'change',\n",
       " 'human',\n",
       " 'life',\n",
       " 'very',\n",
       " 'drastically',\n",
       " 'and',\n",
       " 'will',\n",
       " 'most',\n",
       " 'probably',\n",
       " 'end',\n",
       " 'all',\n",
       " 'the',\n",
       " 'crises',\n",
       " 'of',\n",
       " 'the',\n",
       " 'world',\n",
       " 'by',\n",
       " 'sorting',\n",
       " 'out',\n",
       " 'the',\n",
       " 'major',\n",
       " 'problems',\n",
       " '.']"
      ]
     },
     "execution_count": 16,
     "metadata": {},
     "output_type": "execute_result"
    }
   ],
   "source": [
    "doc_tokenized"
   ]
  },
  {
   "cell_type": "code",
   "execution_count": 17,
   "id": "0a7dd7a6-eda6-41e1-871e-6fc03c951e7e",
   "metadata": {},
   "outputs": [],
   "source": [
    "custom_list = set(list(stopwords.words('english') + list(punctuation))) #stopwords"
   ]
  },
  {
   "cell_type": "code",
   "execution_count": 18,
   "id": "d81d597b-881c-485d-b0b3-2e9f5da3420b",
   "metadata": {},
   "outputs": [],
   "source": [
    "removed_stopword = [word for word in words if word not in custom_list]"
   ]
  },
  {
   "cell_type": "code",
   "execution_count": 19,
   "id": "dee8ee8c-b8b1-46f8-8a57-e0e2eadd3fdb",
   "metadata": {},
   "outputs": [
    {
     "data": {
      "text/plain": [
       "['Artificial',\n",
       " 'Intelligence',\n",
       " 'intelligence',\n",
       " 'possessed',\n",
       " 'machines',\n",
       " 'perform',\n",
       " 'various',\n",
       " 'functions',\n",
       " 'human',\n",
       " 'help',\n",
       " 'With',\n",
       " 'help',\n",
       " 'A.I',\n",
       " 'machines',\n",
       " 'able',\n",
       " 'learn',\n",
       " 'solve',\n",
       " 'problems',\n",
       " 'plan',\n",
       " 'things',\n",
       " 'think',\n",
       " 'etc',\n",
       " 'Artificial',\n",
       " 'Intelligence',\n",
       " 'example',\n",
       " 'simulation',\n",
       " 'human',\n",
       " 'intelligence',\n",
       " 'machines',\n",
       " 'In',\n",
       " 'field',\n",
       " 'technology',\n",
       " 'Artificial',\n",
       " 'Intelligence',\n",
       " 'evolving',\n",
       " 'rapidly',\n",
       " 'day',\n",
       " 'day',\n",
       " 'believed',\n",
       " 'near',\n",
       " 'future',\n",
       " 'artificial',\n",
       " 'intelligence',\n",
       " 'going',\n",
       " 'change',\n",
       " 'human',\n",
       " 'life',\n",
       " 'drastically',\n",
       " 'probably',\n",
       " 'end',\n",
       " 'crises',\n",
       " 'world',\n",
       " 'sorting',\n",
       " 'major',\n",
       " 'problems']"
      ]
     },
     "execution_count": 19,
     "metadata": {},
     "output_type": "execute_result"
    }
   ],
   "source": [
    "removed_stopword"
   ]
  },
  {
   "cell_type": "code",
   "execution_count": 20,
   "id": "3f57c082-4ac4-4655-b1da-6aa771dde758",
   "metadata": {},
   "outputs": [
    {
     "data": {
      "text/plain": [
       "55"
      ]
     },
     "execution_count": 20,
     "metadata": {},
     "output_type": "execute_result"
    }
   ],
   "source": [
    "len(removed_stopword)"
   ]
  },
  {
   "cell_type": "code",
   "execution_count": 21,
   "id": "9f56dc9d-12c6-4387-a944-e763dbe707b3",
   "metadata": {},
   "outputs": [],
   "source": [
    "from nltk.stem import PorterStemmer #porter stemming"
   ]
  },
  {
   "cell_type": "code",
   "execution_count": 22,
   "id": "a5cd1ae2-84d1-4e9d-8409-b0e9830e6a21",
   "metadata": {},
   "outputs": [],
   "source": [
    "ps = PorterStemmer()"
   ]
  },
  {
   "cell_type": "code",
   "execution_count": 23,
   "id": "0d9fb261-62b7-4d3f-a737-ce49c1b2ab8b",
   "metadata": {},
   "outputs": [],
   "source": [
    "stemmed_word = [ps.stem(word) for word in removed_stopword]"
   ]
  },
  {
   "cell_type": "code",
   "execution_count": 24,
   "id": "6eb72684-4499-4e39-a195-b6c2b0c5ef80",
   "metadata": {},
   "outputs": [
    {
     "data": {
      "text/plain": [
       "['artifici',\n",
       " 'intellig',\n",
       " 'intellig',\n",
       " 'possess',\n",
       " 'machin',\n",
       " 'perform',\n",
       " 'variou',\n",
       " 'function',\n",
       " 'human',\n",
       " 'help',\n",
       " 'with',\n",
       " 'help',\n",
       " 'a.i',\n",
       " 'machin',\n",
       " 'abl',\n",
       " 'learn',\n",
       " 'solv',\n",
       " 'problem',\n",
       " 'plan',\n",
       " 'thing',\n",
       " 'think',\n",
       " 'etc',\n",
       " 'artifici',\n",
       " 'intellig',\n",
       " 'exampl',\n",
       " 'simul',\n",
       " 'human',\n",
       " 'intellig',\n",
       " 'machin',\n",
       " 'in',\n",
       " 'field',\n",
       " 'technolog',\n",
       " 'artifici',\n",
       " 'intellig',\n",
       " 'evolv',\n",
       " 'rapidli',\n",
       " 'day',\n",
       " 'day',\n",
       " 'believ',\n",
       " 'near',\n",
       " 'futur',\n",
       " 'artifici',\n",
       " 'intellig',\n",
       " 'go',\n",
       " 'chang',\n",
       " 'human',\n",
       " 'life',\n",
       " 'drastic',\n",
       " 'probabl',\n",
       " 'end',\n",
       " 'crise',\n",
       " 'world',\n",
       " 'sort',\n",
       " 'major',\n",
       " 'problem']"
      ]
     },
     "execution_count": 24,
     "metadata": {},
     "output_type": "execute_result"
    }
   ],
   "source": [
    "stemmed_word"
   ]
  },
  {
   "cell_type": "code",
   "execution_count": 26,
   "id": "f0d5cafa-cc99-44bb-8b15-73c233277c01",
   "metadata": {},
   "outputs": [],
   "source": [
    "from nltk.stem import WordNetLemmatizer"
   ]
  },
  {
   "cell_type": "code",
   "execution_count": 27,
   "id": "633f9d4b-ce5a-45e0-87cc-c62153988265",
   "metadata": {},
   "outputs": [],
   "source": [
    "lemmatizer = WordNetLemmatizer() #lemmatizer"
   ]
  },
  {
   "cell_type": "code",
   "execution_count": 29,
   "id": "5de2328e-702a-4a9a-afd7-4e3ce08ec527",
   "metadata": {},
   "outputs": [
    {
     "data": {
      "text/plain": [
       "['Artificial',\n",
       " 'Intelligence',\n",
       " 'intelligence',\n",
       " 'possessed',\n",
       " 'machine',\n",
       " 'perform',\n",
       " 'various',\n",
       " 'function',\n",
       " 'human',\n",
       " 'help',\n",
       " 'With',\n",
       " 'help',\n",
       " 'A.I',\n",
       " 'machine',\n",
       " 'able',\n",
       " 'learn',\n",
       " 'solve',\n",
       " 'problem',\n",
       " 'plan',\n",
       " 'thing',\n",
       " 'think',\n",
       " 'etc',\n",
       " 'Artificial',\n",
       " 'Intelligence',\n",
       " 'example',\n",
       " 'simulation',\n",
       " 'human',\n",
       " 'intelligence',\n",
       " 'machine',\n",
       " 'In',\n",
       " 'field',\n",
       " 'technology',\n",
       " 'Artificial',\n",
       " 'Intelligence',\n",
       " 'evolving',\n",
       " 'rapidly',\n",
       " 'day',\n",
       " 'day',\n",
       " 'believed',\n",
       " 'near',\n",
       " 'future',\n",
       " 'artificial',\n",
       " 'intelligence',\n",
       " 'going',\n",
       " 'change',\n",
       " 'human',\n",
       " 'life',\n",
       " 'drastically',\n",
       " 'probably',\n",
       " 'end',\n",
       " 'crisis',\n",
       " 'world',\n",
       " 'sorting',\n",
       " 'major',\n",
       " 'problem']"
      ]
     },
     "execution_count": 29,
     "metadata": {},
     "output_type": "execute_result"
    }
   ],
   "source": [
    "lemmatized_words = [lemmatizer.lemmatize(word) for word in removed_stopword]\n",
    "lemmatized_words"
   ]
  },
  {
   "cell_type": "code",
   "execution_count": null,
   "id": "00aa0cab-3b64-4661-b3c1-d6909d1e172b",
   "metadata": {},
   "outputs": [],
   "source": []
  }
 ],
 "metadata": {
  "kernelspec": {
   "display_name": "Python 3 (ipykernel)",
   "language": "python",
   "name": "python3"
  },
  "language_info": {
   "codemirror_mode": {
    "name": "ipython",
    "version": 3
   },
   "file_extension": ".py",
   "mimetype": "text/x-python",
   "name": "python",
   "nbconvert_exporter": "python",
   "pygments_lexer": "ipython3",
   "version": "3.11.9"
  }
 },
 "nbformat": 4,
 "nbformat_minor": 5
}

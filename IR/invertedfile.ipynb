{
 "cells": [
  {
   "cell_type": "code",
   "execution_count": 2,
   "id": "6aea9133-909c-4cdb-8ac1-c3ba081e5729",
   "metadata": {},
   "outputs": [],
   "source": [
    "import nltk\n",
    "from nltk import word_tokenize\n",
    "from nltk.corpus import stopwords\n",
    "from string import punctuation"
   ]
  },
  {
   "cell_type": "code",
   "execution_count": 3,
   "id": "0a7cf969-95bd-4ac7-97e8-f18020edd17c",
   "metadata": {},
   "outputs": [
    {
     "name": "stderr",
     "output_type": "stream",
     "text": [
      "[nltk_data] Downloading package stopwords to\n",
      "[nltk_data]     C:\\Users\\hp\\AppData\\Roaming\\nltk_data...\n",
      "[nltk_data]   Package stopwords is already up-to-date!\n"
     ]
    },
    {
     "data": {
      "text/plain": [
       "True"
      ]
     },
     "execution_count": 3,
     "metadata": {},
     "output_type": "execute_result"
    }
   ],
   "source": [
    "nltk.download('stopwords')"
   ]
  },
  {
   "cell_type": "code",
   "execution_count": 4,
   "id": "11d39703-1ac5-4667-941b-9a10d00cecc2",
   "metadata": {},
   "outputs": [],
   "source": [
    "stop_word_list = set(list(punctuation) + stopwords.words('english'))"
   ]
  },
  {
   "cell_type": "code",
   "execution_count": 5,
   "id": "a7e60537-8b04-4075-8f4e-02de4c011763",
   "metadata": {},
   "outputs": [
    {
     "name": "stderr",
     "output_type": "stream",
     "text": [
      "[nltk_data] Downloading package punkt to\n",
      "[nltk_data]     C:\\Users\\hp\\AppData\\Roaming\\nltk_data...\n",
      "[nltk_data]   Package punkt is already up-to-date!\n"
     ]
    },
    {
     "data": {
      "text/plain": [
       "True"
      ]
     },
     "execution_count": 5,
     "metadata": {},
     "output_type": "execute_result"
    }
   ],
   "source": [
    "nltk.download('punkt')"
   ]
  },
  {
   "cell_type": "code",
   "execution_count": 15,
   "id": "6a1a8d53-9dae-435c-89a1-16d1f4405e5b",
   "metadata": {},
   "outputs": [],
   "source": [
    "doc1 = \"Hello this is the first document. It contains some text.\".lower()\n",
    "doc2 = \"Ram is good boy. This is second document and contains some text\".lower()"
   ]
  },
  {
   "cell_type": "code",
   "execution_count": 16,
   "id": "b31ae541-65ca-47e2-a223-c504d104f1ea",
   "metadata": {},
   "outputs": [],
   "source": [
    "doc1_tok = word_tokenize(doc1)\n",
    "doc2_tok = word_tokenize(doc2)"
   ]
  },
  {
   "cell_type": "code",
   "execution_count": 17,
   "id": "fe3b0050-b3d2-4eab-831e-b10fbea4ac77",
   "metadata": {},
   "outputs": [],
   "source": [
    "corpus = list(set(doc1_tok + doc2_tok))"
   ]
  },
  {
   "cell_type": "code",
   "execution_count": 18,
   "id": "41f9eff5-5c75-4f0b-95b7-59c856b526f5",
   "metadata": {},
   "outputs": [],
   "source": [
    "corpus_without_stop_word = [word for word in corpus if word not in stop_word_list]"
   ]
  },
  {
   "cell_type": "code",
   "execution_count": 19,
   "id": "92ee395d-9ae5-48a4-a262-64fc1148f036",
   "metadata": {},
   "outputs": [
    {
     "data": {
      "text/plain": [
       "['boy',\n",
       " 'document',\n",
       " 'text',\n",
       " 'hello',\n",
       " 'good',\n",
       " 'second',\n",
       " 'first',\n",
       " 'contains',\n",
       " 'ram']"
      ]
     },
     "execution_count": 19,
     "metadata": {},
     "output_type": "execute_result"
    }
   ],
   "source": [
    "corpus_without_stop_word"
   ]
  },
  {
   "cell_type": "code",
   "execution_count": 20,
   "id": "055b840a-a69b-4964-bdf7-489633cafe3c",
   "metadata": {},
   "outputs": [],
   "source": [
    "#indexing\n",
    "dic = {}\n",
    "\n",
    "for i in corpus_without_stop_word:\n",
    "  cnt = 0\n",
    "  doc = []\n",
    "  for j in range(len(doc1_tok)):\n",
    "    if i == doc1_tok[j]:\n",
    "      cnt += 1\n",
    "      doc.append(\"D1\")\n",
    "  for k in range(len(doc2_tok)):\n",
    "    if i == doc2_tok[k]:\n",
    "      cnt += 1\n",
    "      doc.append(\"D2\")\n",
    "  dic[i] = f\"{i} ->({doc}, {cnt} )\""
   ]
  },
  {
   "cell_type": "code",
   "execution_count": 21,
   "id": "f3409fbd-7337-49ab-b8a0-4aeb702231bf",
   "metadata": {},
   "outputs": [
    {
     "data": {
      "text/plain": [
       "{'boy': \"boy ->(['D2'], 1 )\",\n",
       " 'document': \"document ->(['D1', 'D2'], 2 )\",\n",
       " 'text': \"text ->(['D1', 'D2'], 2 )\",\n",
       " 'hello': \"hello ->(['D1'], 1 )\",\n",
       " 'good': \"good ->(['D2'], 1 )\",\n",
       " 'second': \"second ->(['D2'], 1 )\",\n",
       " 'first': \"first ->(['D1'], 1 )\",\n",
       " 'contains': \"contains ->(['D1', 'D2'], 2 )\",\n",
       " 'ram': \"ram ->(['D2'], 1 )\"}"
      ]
     },
     "execution_count": 21,
     "metadata": {},
     "output_type": "execute_result"
    }
   ],
   "source": [
    "dic"
   ]
  },
  {
   "cell_type": "code",
   "execution_count": 22,
   "id": "ef3be7b8-08aa-46b0-bbea-7865f5f42c5e",
   "metadata": {},
   "outputs": [
    {
     "data": {
      "text/plain": [
       "dict_keys(['boy', 'document', 'text', 'hello', 'good', 'second', 'first', 'contains', 'ram'])"
      ]
     },
     "execution_count": 22,
     "metadata": {},
     "output_type": "execute_result"
    }
   ],
   "source": [
    "dic.keys()"
   ]
  },
  {
   "cell_type": "code",
   "execution_count": 23,
   "id": "e14d6441-5cb5-478b-b924-2558780c5c13",
   "metadata": {},
   "outputs": [],
   "source": [
    "def searchW(word):\n",
    "  if word.lower() in list(dic.keys()):\n",
    "    return dic[word]\n",
    "  else:\n",
    "    return \"not found\""
   ]
  },
  {
   "cell_type": "code",
   "execution_count": 24,
   "id": "a82db627-4981-4b0d-bffc-469f99b07a30",
   "metadata": {},
   "outputs": [
    {
     "data": {
      "text/plain": [
       "\"contains ->(['D1', 'D2'], 2 )\""
      ]
     },
     "execution_count": 24,
     "metadata": {},
     "output_type": "execute_result"
    }
   ],
   "source": [
    "searchW('contains')"
   ]
  },
  {
   "cell_type": "code",
   "execution_count": null,
   "id": "5ceb68b4-a425-4bc0-83e5-a0c0d39c8dab",
   "metadata": {},
   "outputs": [],
   "source": []
  }
 ],
 "metadata": {
  "kernelspec": {
   "display_name": "Python 3 (ipykernel)",
   "language": "python",
   "name": "python3"
  },
  "language_info": {
   "codemirror_mode": {
    "name": "ipython",
    "version": 3
   },
   "file_extension": ".py",
   "mimetype": "text/x-python",
   "name": "python",
   "nbconvert_exporter": "python",
   "pygments_lexer": "ipython3",
   "version": "3.11.9"
  }
 },
 "nbformat": 4,
 "nbformat_minor": 5
}

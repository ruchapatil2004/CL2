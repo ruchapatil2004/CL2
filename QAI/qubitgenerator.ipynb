{
 "cells": [
  {
   "cell_type": "raw",
   "id": "7db54c84-d9d6-4a10-9a06-3bba3d20c6b4",
   "metadata": {},
   "source": [
    "When working with Jupyter Notebook, you’ll need to create and use a new virtual environment specifically for Jupyter to avoid the mixed dependency issue with Qiskit. Here’s how you can set up a new environment and ensure that Jupyter uses it:\n",
    "\n",
    "1. **Create a New Virtual Environment**:\n",
    "   - In your terminal, create a new environment:\n",
    "     ```bash\n",
    "     python -m venv qiskit_env\n",
    "     ```\n",
    "   - Activate the environment:\n",
    "     - On **Windows**:\n",
    "       ```bash\n",
    "       qiskit_env\\Scripts\\activate\n",
    "       ```\n",
    "     - On **MacOS/Linux**:\n",
    "       ```bash\n",
    "       source qiskit_env/bin/activate\n",
    "       ```\n",
    "\n",
    "2. **Install Qiskit and Jupyter**:\n",
    "   - Install the latest Qiskit version:\n",
    "     ```bash\n",
    "     pip install qiskit\n",
    "     ```\n",
    "   - Install Jupyter Notebook within this environment:\n",
    "     ```bash\n",
    "     pip install notebook\n",
    "     ```\n",
    "\n",
    "3. **Add the New Environment to Jupyter Notebook**:\n",
    "   - Install the IPython kernel for Jupyter:\n",
    "     ```bash\n",
    "     pip install ipykernel\n",
    "     ```\n",
    "   - Add the environment to Jupyter’s kernel list so it appears as an option when you open Jupyter:\n",
    "     ```bash\n",
    "     python -m ipykernel install --user --name=qiskit_env --display-name \"Qiskit Env\"\n",
    "     ```\n",
    "\n",
    "4. **Start Jupyter Notebook**:\n",
    "   - Launch Jupyter Notebook from the same environment:\n",
    "     ```bash\n",
    "     jupyter notebook\n",
    "     ```\n",
    "   - When you open a new notebook, select the kernel named \"Qiskit Env\" (or whatever display name you used) from the **Kernel > Change Kernel** menu.\n",
    "\n",
    "5. **Verify Installation**:\n",
    "   - In the notebook, try importing Qiskit to confirm it’s working:\n",
    "     ```python\n",
    "     import qiskit\n",
    "     print(qiskit.__version__)\n",
    "     ```\n",
    "\n",
    "6. **Clean Up Old Installations (Optional)**:\n",
    "   - If you’ve installed Qiskit or `qiskit-terra` in the base environment or another conflicting environment, consider uninstalling them there to avoid future conflicts.\n",
    "\n",
    "This should resolve the mixed dependency issue in Jupyter Notebook! For more information, refer to the [Qiskit packaging guide](https://qisk.it/packaging-1-0)."
   ]
  },
  {
   "cell_type": "code",
   "execution_count": 1,
   "id": "d353b645-5e0e-4981-8078-2e01fd9d6920",
   "metadata": {},
   "outputs": [
    {
     "name": "stdout",
     "output_type": "stream",
     "text": [
      "Collecting qiskit-aerNote: you may need to restart the kernel to use updated packages.\n",
      "\n",
      "  Downloading qiskit_aer-0.15.1-cp311-cp311-win_amd64.whl.metadata (8.2 kB)\n",
      "Requirement already satisfied: qiskit>=1.1.0 in c:\\users\\hp\\qiskit_env\\lib\\site-packages (from qiskit-aer) (1.2.4)\n",
      "Requirement already satisfied: numpy>=1.16.3 in c:\\users\\hp\\qiskit_env\\lib\\site-packages (from qiskit-aer) (2.1.3)\n",
      "Requirement already satisfied: scipy>=1.0 in c:\\users\\hp\\qiskit_env\\lib\\site-packages (from qiskit-aer) (1.14.1)\n",
      "Requirement already satisfied: psutil>=5 in c:\\users\\hp\\qiskit_env\\lib\\site-packages (from qiskit-aer) (6.1.0)\n",
      "Requirement already satisfied: rustworkx>=0.15.0 in c:\\users\\hp\\qiskit_env\\lib\\site-packages (from qiskit>=1.1.0->qiskit-aer) (0.15.1)\n",
      "Requirement already satisfied: sympy>=1.3 in c:\\users\\hp\\qiskit_env\\lib\\site-packages (from qiskit>=1.1.0->qiskit-aer) (1.13.3)\n",
      "Requirement already satisfied: dill>=0.3 in c:\\users\\hp\\qiskit_env\\lib\\site-packages (from qiskit>=1.1.0->qiskit-aer) (0.3.9)\n",
      "Requirement already satisfied: python-dateutil>=2.8.0 in c:\\users\\hp\\qiskit_env\\lib\\site-packages (from qiskit>=1.1.0->qiskit-aer) (2.9.0.post0)\n",
      "Requirement already satisfied: stevedore>=3.0.0 in c:\\users\\hp\\qiskit_env\\lib\\site-packages (from qiskit>=1.1.0->qiskit-aer) (5.3.0)\n",
      "Requirement already satisfied: typing-extensions in c:\\users\\hp\\qiskit_env\\lib\\site-packages (from qiskit>=1.1.0->qiskit-aer) (4.12.2)\n",
      "Requirement already satisfied: symengine<0.14,>=0.11 in c:\\users\\hp\\qiskit_env\\lib\\site-packages (from qiskit>=1.1.0->qiskit-aer) (0.13.0)\n",
      "Requirement already satisfied: six>=1.5 in c:\\users\\hp\\qiskit_env\\lib\\site-packages (from python-dateutil>=2.8.0->qiskit>=1.1.0->qiskit-aer) (1.16.0)\n",
      "Requirement already satisfied: pbr>=2.0.0 in c:\\users\\hp\\qiskit_env\\lib\\site-packages (from stevedore>=3.0.0->qiskit>=1.1.0->qiskit-aer) (6.1.0)\n",
      "Requirement already satisfied: mpmath<1.4,>=1.1.0 in c:\\users\\hp\\qiskit_env\\lib\\site-packages (from sympy>=1.3->qiskit>=1.1.0->qiskit-aer) (1.3.0)\n",
      "Downloading qiskit_aer-0.15.1-cp311-cp311-win_amd64.whl (9.5 MB)\n",
      "   ---------------------------------------- 0.0/9.5 MB ? eta -:--:--\n",
      "   ---------------------------------------- 0.0/9.5 MB ? eta -:--:--\n",
      "   - -------------------------------------- 0.3/9.5 MB ? eta -:--:--\n",
      "   -- ------------------------------------- 0.5/9.5 MB 837.5 kB/s eta 0:00:11\n",
      "   -- ------------------------------------- 0.5/9.5 MB 837.5 kB/s eta 0:00:11\n",
      "   --- ------------------------------------ 0.8/9.5 MB 699.0 kB/s eta 0:00:13\n",
      "   --- ------------------------------------ 0.8/9.5 MB 699.0 kB/s eta 0:00:13\n",
      "   --- ------------------------------------ 0.8/9.5 MB 699.0 kB/s eta 0:00:13\n",
      "   --- ------------------------------------ 0.8/9.5 MB 699.0 kB/s eta 0:00:13\n",
      "   --- ------------------------------------ 0.8/9.5 MB 699.0 kB/s eta 0:00:13\n",
      "   ---- ----------------------------------- 1.0/9.5 MB 474.6 kB/s eta 0:00:18\n",
      "   ---- ----------------------------------- 1.0/9.5 MB 474.6 kB/s eta 0:00:18\n",
      "   ---- ----------------------------------- 1.0/9.5 MB 474.6 kB/s eta 0:00:18\n",
      "   ---- ----------------------------------- 1.0/9.5 MB 474.6 kB/s eta 0:00:18\n",
      "   ----- ---------------------------------- 1.3/9.5 MB 419.4 kB/s eta 0:00:20\n",
      "   ----- ---------------------------------- 1.3/9.5 MB 419.4 kB/s eta 0:00:20\n",
      "   ----- ---------------------------------- 1.3/9.5 MB 419.4 kB/s eta 0:00:20\n",
      "   ------ --------------------------------- 1.6/9.5 MB 409.1 kB/s eta 0:00:20\n",
      "   ------ --------------------------------- 1.6/9.5 MB 409.1 kB/s eta 0:00:20\n",
      "   ------ --------------------------------- 1.6/9.5 MB 409.1 kB/s eta 0:00:20\n",
      "   ------- -------------------------------- 1.8/9.5 MB 409.2 kB/s eta 0:00:19\n",
      "   ------- -------------------------------- 1.8/9.5 MB 409.2 kB/s eta 0:00:19\n",
      "   ------- -------------------------------- 1.8/9.5 MB 409.2 kB/s eta 0:00:19\n",
      "   -------- ------------------------------- 2.1/9.5 MB 413.5 kB/s eta 0:00:18\n",
      "   -------- ------------------------------- 2.1/9.5 MB 413.5 kB/s eta 0:00:18\n",
      "   --------- ------------------------------ 2.4/9.5 MB 424.7 kB/s eta 0:00:17\n",
      "   --------- ------------------------------ 2.4/9.5 MB 424.7 kB/s eta 0:00:17\n",
      "   --------- ------------------------------ 2.4/9.5 MB 424.7 kB/s eta 0:00:17\n",
      "   ----------- ---------------------------- 2.6/9.5 MB 431.4 kB/s eta 0:00:16\n",
      "   ----------- ---------------------------- 2.6/9.5 MB 431.4 kB/s eta 0:00:16\n",
      "   ----------- ---------------------------- 2.6/9.5 MB 431.4 kB/s eta 0:00:16\n",
      "   ------------ --------------------------- 2.9/9.5 MB 417.3 kB/s eta 0:00:16\n",
      "   ------------ --------------------------- 2.9/9.5 MB 417.3 kB/s eta 0:00:16\n",
      "   ------------ --------------------------- 2.9/9.5 MB 417.3 kB/s eta 0:00:16\n",
      "   ------------ --------------------------- 2.9/9.5 MB 417.3 kB/s eta 0:00:16\n",
      "   ------------ --------------------------- 2.9/9.5 MB 417.3 kB/s eta 0:00:16\n",
      "   ------------ --------------------------- 2.9/9.5 MB 417.3 kB/s eta 0:00:16\n",
      "   ------------- -------------------------- 3.1/9.5 MB 383.7 kB/s eta 0:00:17\n",
      "   ------------- -------------------------- 3.1/9.5 MB 383.7 kB/s eta 0:00:17\n",
      "   ------------- -------------------------- 3.1/9.5 MB 383.7 kB/s eta 0:00:17\n",
      "   ------------- -------------------------- 3.1/9.5 MB 383.7 kB/s eta 0:00:17\n",
      "   -------------- ------------------------- 3.4/9.5 MB 372.8 kB/s eta 0:00:17\n",
      "   -------------- ------------------------- 3.4/9.5 MB 372.8 kB/s eta 0:00:17\n",
      "   -------------- ------------------------- 3.4/9.5 MB 372.8 kB/s eta 0:00:17\n",
      "   -------------- ------------------------- 3.4/9.5 MB 372.8 kB/s eta 0:00:17\n",
      "   -------------- ------------------------- 3.4/9.5 MB 372.8 kB/s eta 0:00:17\n",
      "   -------------- ------------------------- 3.4/9.5 MB 372.8 kB/s eta 0:00:17\n",
      "   -------------- ------------------------- 3.4/9.5 MB 372.8 kB/s eta 0:00:17\n",
      "   -------------- ------------------------- 3.4/9.5 MB 372.8 kB/s eta 0:00:17\n",
      "   --------------- ------------------------ 3.7/9.5 MB 337.1 kB/s eta 0:00:18\n",
      "   --------------- ------------------------ 3.7/9.5 MB 337.1 kB/s eta 0:00:18\n",
      "   --------------- ------------------------ 3.7/9.5 MB 337.1 kB/s eta 0:00:18\n",
      "   --------------- ------------------------ 3.7/9.5 MB 337.1 kB/s eta 0:00:18\n",
      "   --------------- ------------------------ 3.7/9.5 MB 337.1 kB/s eta 0:00:18\n",
      "   --------------- ------------------------ 3.7/9.5 MB 337.1 kB/s eta 0:00:18\n",
      "   --------------- ------------------------ 3.7/9.5 MB 337.1 kB/s eta 0:00:18\n",
      "   --------------- ------------------------ 3.7/9.5 MB 337.1 kB/s eta 0:00:18\n",
      "   ---------------- ----------------------- 3.9/9.5 MB 313.6 kB/s eta 0:00:18\n",
      "   ---------------- ----------------------- 3.9/9.5 MB 313.6 kB/s eta 0:00:18\n",
      "   ---------------- ----------------------- 3.9/9.5 MB 313.6 kB/s eta 0:00:18\n",
      "   ---------------- ----------------------- 3.9/9.5 MB 313.6 kB/s eta 0:00:18\n",
      "   ---------------- ----------------------- 3.9/9.5 MB 313.6 kB/s eta 0:00:18\n",
      "   ----------------- ---------------------- 4.2/9.5 MB 306.5 kB/s eta 0:00:18\n",
      "   ----------------- ---------------------- 4.2/9.5 MB 306.5 kB/s eta 0:00:18\n",
      "   ----------------- ---------------------- 4.2/9.5 MB 306.5 kB/s eta 0:00:18\n",
      "   ----------------- ---------------------- 4.2/9.5 MB 306.5 kB/s eta 0:00:18\n",
      "   ----------------- ---------------------- 4.2/9.5 MB 306.5 kB/s eta 0:00:18\n",
      "   ------------------ --------------------- 4.5/9.5 MB 300.6 kB/s eta 0:00:17\n",
      "   ------------------ --------------------- 4.5/9.5 MB 300.6 kB/s eta 0:00:17\n",
      "   ------------------ --------------------- 4.5/9.5 MB 300.6 kB/s eta 0:00:17\n",
      "   ------------------- -------------------- 4.7/9.5 MB 307.0 kB/s eta 0:00:16\n",
      "   ------------------- -------------------- 4.7/9.5 MB 307.0 kB/s eta 0:00:16\n",
      "   -------------------- ------------------- 5.0/9.5 MB 314.9 kB/s eta 0:00:15\n",
      "   -------------------- ------------------- 5.0/9.5 MB 314.9 kB/s eta 0:00:15\n",
      "   -------------------- ------------------- 5.0/9.5 MB 314.9 kB/s eta 0:00:15\n",
      "   ---------------------- ----------------- 5.2/9.5 MB 319.1 kB/s eta 0:00:14\n",
      "   ---------------------- ----------------- 5.2/9.5 MB 319.1 kB/s eta 0:00:14\n",
      "   ----------------------- ---------------- 5.5/9.5 MB 324.5 kB/s eta 0:00:13\n",
      "   ----------------------- ---------------- 5.5/9.5 MB 324.5 kB/s eta 0:00:13\n",
      "   ----------------------- ---------------- 5.5/9.5 MB 324.5 kB/s eta 0:00:13\n",
      "   ------------------------ --------------- 5.8/9.5 MB 329.3 kB/s eta 0:00:12\n",
      "   ------------------------ --------------- 5.8/9.5 MB 329.3 kB/s eta 0:00:12\n",
      "   ------------------------- -------------- 6.0/9.5 MB 337.1 kB/s eta 0:00:11\n",
      "   ------------------------- -------------- 6.0/9.5 MB 337.1 kB/s eta 0:00:11\n",
      "   -------------------------- ------------- 6.3/9.5 MB 345.1 kB/s eta 0:00:10\n",
      "   --------------------------- ------------ 6.6/9.5 MB 353.5 kB/s eta 0:00:09\n",
      "   --------------------------- ------------ 6.6/9.5 MB 353.5 kB/s eta 0:00:09\n",
      "   ---------------------------- ----------- 6.8/9.5 MB 361.3 kB/s eta 0:00:08\n",
      "   ---------------------------- ----------- 6.8/9.5 MB 361.3 kB/s eta 0:00:08\n",
      "   ----------------------------- ---------- 7.1/9.5 MB 365.3 kB/s eta 0:00:07\n",
      "   ----------------------------- ---------- 7.1/9.5 MB 365.3 kB/s eta 0:00:07\n",
      "   ------------------------------ --------- 7.3/9.5 MB 369.5 kB/s eta 0:00:06\n",
      "   ------------------------------ --------- 7.3/9.5 MB 369.5 kB/s eta 0:00:06\n",
      "   ------------------------------ --------- 7.3/9.5 MB 369.5 kB/s eta 0:00:06\n",
      "   ------------------------------- -------- 7.6/9.5 MB 372.8 kB/s eta 0:00:06\n",
      "   ------------------------------- -------- 7.6/9.5 MB 372.8 kB/s eta 0:00:06\n",
      "   --------------------------------- ------ 7.9/9.5 MB 377.1 kB/s eta 0:00:05\n",
      "   --------------------------------- ------ 7.9/9.5 MB 377.1 kB/s eta 0:00:05\n",
      "   ---------------------------------- ----- 8.1/9.5 MB 381.0 kB/s eta 0:00:04\n",
      "   ---------------------------------- ----- 8.1/9.5 MB 381.0 kB/s eta 0:00:04\n",
      "   ---------------------------------- ----- 8.1/9.5 MB 381.0 kB/s eta 0:00:04\n",
      "   ---------------------------------- ----- 8.1/9.5 MB 381.0 kB/s eta 0:00:04\n",
      "   ----------------------------------- ---- 8.4/9.5 MB 380.2 kB/s eta 0:00:03\n",
      "   ----------------------------------- ---- 8.4/9.5 MB 380.2 kB/s eta 0:00:03\n",
      "   ----------------------------------- ---- 8.4/9.5 MB 380.2 kB/s eta 0:00:03\n",
      "   ------------------------------------ --- 8.7/9.5 MB 381.3 kB/s eta 0:00:03\n",
      "   ------------------------------------ --- 8.7/9.5 MB 381.3 kB/s eta 0:00:03\n",
      "   ------------------------------------- -- 8.9/9.5 MB 383.7 kB/s eta 0:00:02\n",
      "   ------------------------------------- -- 8.9/9.5 MB 383.7 kB/s eta 0:00:02\n",
      "   ------------------------------------- -- 8.9/9.5 MB 383.7 kB/s eta 0:00:02\n",
      "   -------------------------------------- - 9.2/9.5 MB 386.2 kB/s eta 0:00:01\n",
      "   -------------------------------------- - 9.2/9.5 MB 386.2 kB/s eta 0:00:01\n",
      "   ---------------------------------------  9.4/9.5 MB 389.1 kB/s eta 0:00:01\n",
      "   ---------------------------------------- 9.5/9.5 MB 389.4 kB/s eta 0:00:00\n",
      "Installing collected packages: qiskit-aer\n",
      "Successfully installed qiskit-aer-0.15.1\n"
     ]
    }
   ],
   "source": [
    "pip install qiskit-aer"
   ]
  },
  {
   "cell_type": "code",
   "execution_count": 2,
   "id": "7697203e-73fe-41e4-b44f-2854966d71ba",
   "metadata": {},
   "outputs": [],
   "source": [
    "from qiskit import QuantumCircuit, transpile\n",
    "from qiskit import QuantumRegister, ClassicalRegister\n",
    "from qiskit_aer import AerSimulator\n",
    "from qiskit.visualization import plot_histogram"
   ]
  },
  {
   "cell_type": "code",
   "execution_count": 3,
   "id": "710b1126-62ae-46f6-9108-d612f14a9e12",
   "metadata": {},
   "outputs": [],
   "source": [
    "q = QuantumRegister(16, 'q')\n",
    "c = ClassicalRegister(16, 'c')\n",
    "circuit = QuantumCircuit(q, c)"
   ]
  },
  {
   "cell_type": "code",
   "execution_count": 4,
   "id": "61a07aa6-0481-443d-83d6-d3d433d8f8de",
   "metadata": {},
   "outputs": [
    {
     "data": {
      "text/plain": [
       "<qiskit.circuit.instructionset.InstructionSet at 0x21a89545540>"
      ]
     },
     "execution_count": 4,
     "metadata": {},
     "output_type": "execute_result"
    }
   ],
   "source": [
    "circuit.h(q)"
   ]
  },
  {
   "cell_type": "code",
   "execution_count": 5,
   "id": "99ac3c92-d1df-4385-89be-3eb9c3208419",
   "metadata": {},
   "outputs": [
    {
     "data": {
      "text/html": [
       "<pre style=\"word-wrap: normal;white-space: pre;background: #fff0;line-height: 1.1;font-family: &quot;Courier New&quot;,Courier,monospace\">      ┌───┐\n",
       " q_0: ┤ H ├\n",
       "      ├───┤\n",
       " q_1: ┤ H ├\n",
       "      ├───┤\n",
       " q_2: ┤ H ├\n",
       "      ├───┤\n",
       " q_3: ┤ H ├\n",
       "      ├───┤\n",
       " q_4: ┤ H ├\n",
       "      ├───┤\n",
       " q_5: ┤ H ├\n",
       "      ├───┤\n",
       " q_6: ┤ H ├\n",
       "      ├───┤\n",
       " q_7: ┤ H ├\n",
       "      ├───┤\n",
       " q_8: ┤ H ├\n",
       "      ├───┤\n",
       " q_9: ┤ H ├\n",
       "      ├───┤\n",
       "q_10: ┤ H ├\n",
       "      ├───┤\n",
       "q_11: ┤ H ├\n",
       "      ├───┤\n",
       "q_12: ┤ H ├\n",
       "      ├───┤\n",
       "q_13: ┤ H ├\n",
       "      ├───┤\n",
       "q_14: ┤ H ├\n",
       "      ├───┤\n",
       "q_15: ┤ H ├\n",
       "      └───┘\n",
       "c: 16/═════\n",
       "           </pre>"
      ],
      "text/plain": [
       "      ┌───┐\n",
       " q_0: ┤ H ├\n",
       "      ├───┤\n",
       " q_1: ┤ H ├\n",
       "      ├───┤\n",
       " q_2: ┤ H ├\n",
       "      ├───┤\n",
       " q_3: ┤ H ├\n",
       "      ├───┤\n",
       " q_4: ┤ H ├\n",
       "      ├───┤\n",
       " q_5: ┤ H ├\n",
       "      ├───┤\n",
       " q_6: ┤ H ├\n",
       "      ├───┤\n",
       " q_7: ┤ H ├\n",
       "      ├───┤\n",
       " q_8: ┤ H ├\n",
       "      ├───┤\n",
       " q_9: ┤ H ├\n",
       "      ├───┤\n",
       "q_10: ┤ H ├\n",
       "      ├───┤\n",
       "q_11: ┤ H ├\n",
       "      ├───┤\n",
       "q_12: ┤ H ├\n",
       "      ├───┤\n",
       "q_13: ┤ H ├\n",
       "      ├───┤\n",
       "q_14: ┤ H ├\n",
       "      ├───┤\n",
       "q_15: ┤ H ├\n",
       "      └───┘\n",
       "c: 16/═════\n",
       "           "
      ]
     },
     "execution_count": 5,
     "metadata": {},
     "output_type": "execute_result"
    }
   ],
   "source": [
    "circuit.draw()"
   ]
  },
  {
   "cell_type": "code",
   "execution_count": 6,
   "id": "098124a9-756a-432b-991d-bc4a253f1a43",
   "metadata": {},
   "outputs": [
    {
     "data": {
      "text/plain": [
       "<qiskit.circuit.instructionset.InstructionSet at 0x21afba92560>"
      ]
     },
     "execution_count": 6,
     "metadata": {},
     "output_type": "execute_result"
    }
   ],
   "source": [
    "circuit.measure(q, c)"
   ]
  },
  {
   "cell_type": "code",
   "execution_count": 7,
   "id": "605c58b1-54fc-40b2-87f1-f2a07e89786e",
   "metadata": {},
   "outputs": [
    {
     "data": {
      "text/html": [
       "<pre style=\"word-wrap: normal;white-space: pre;background: #fff0;line-height: 1.1;font-family: &quot;Courier New&quot;,Courier,monospace\">      ┌───┐┌─┐                                             \n",
       " q_0: ┤ H ├┤M├─────────────────────────────────────────────\n",
       "      ├───┤└╥┘┌─┐                                          \n",
       " q_1: ┤ H ├─╫─┤M├──────────────────────────────────────────\n",
       "      ├───┤ ║ └╥┘┌─┐                                       \n",
       " q_2: ┤ H ├─╫──╫─┤M├───────────────────────────────────────\n",
       "      ├───┤ ║  ║ └╥┘┌─┐                                    \n",
       " q_3: ┤ H ├─╫──╫──╫─┤M├────────────────────────────────────\n",
       "      ├───┤ ║  ║  ║ └╥┘┌─┐                                 \n",
       " q_4: ┤ H ├─╫──╫──╫──╫─┤M├─────────────────────────────────\n",
       "      ├───┤ ║  ║  ║  ║ └╥┘┌─┐                              \n",
       " q_5: ┤ H ├─╫──╫──╫──╫──╫─┤M├──────────────────────────────\n",
       "      ├───┤ ║  ║  ║  ║  ║ └╥┘┌─┐                           \n",
       " q_6: ┤ H ├─╫──╫──╫──╫──╫──╫─┤M├───────────────────────────\n",
       "      ├───┤ ║  ║  ║  ║  ║  ║ └╥┘┌─┐                        \n",
       " q_7: ┤ H ├─╫──╫──╫──╫──╫──╫──╫─┤M├────────────────────────\n",
       "      ├───┤ ║  ║  ║  ║  ║  ║  ║ └╥┘┌─┐                     \n",
       " q_8: ┤ H ├─╫──╫──╫──╫──╫──╫──╫──╫─┤M├─────────────────────\n",
       "      ├───┤ ║  ║  ║  ║  ║  ║  ║  ║ └╥┘┌─┐                  \n",
       " q_9: ┤ H ├─╫──╫──╫──╫──╫──╫──╫──╫──╫─┤M├──────────────────\n",
       "      ├───┤ ║  ║  ║  ║  ║  ║  ║  ║  ║ └╥┘┌─┐               \n",
       "q_10: ┤ H ├─╫──╫──╫──╫──╫──╫──╫──╫──╫──╫─┤M├───────────────\n",
       "      ├───┤ ║  ║  ║  ║  ║  ║  ║  ║  ║  ║ └╥┘┌─┐            \n",
       "q_11: ┤ H ├─╫──╫──╫──╫──╫──╫──╫──╫──╫──╫──╫─┤M├────────────\n",
       "      ├───┤ ║  ║  ║  ║  ║  ║  ║  ║  ║  ║  ║ └╥┘┌─┐         \n",
       "q_12: ┤ H ├─╫──╫──╫──╫──╫──╫──╫──╫──╫──╫──╫──╫─┤M├─────────\n",
       "      ├───┤ ║  ║  ║  ║  ║  ║  ║  ║  ║  ║  ║  ║ └╥┘┌─┐      \n",
       "q_13: ┤ H ├─╫──╫──╫──╫──╫──╫──╫──╫──╫──╫──╫──╫──╫─┤M├──────\n",
       "      ├───┤ ║  ║  ║  ║  ║  ║  ║  ║  ║  ║  ║  ║  ║ └╥┘┌─┐   \n",
       "q_14: ┤ H ├─╫──╫──╫──╫──╫──╫──╫──╫──╫──╫──╫──╫──╫──╫─┤M├───\n",
       "      ├───┤ ║  ║  ║  ║  ║  ║  ║  ║  ║  ║  ║  ║  ║  ║ └╥┘┌─┐\n",
       "q_15: ┤ H ├─╫──╫──╫──╫──╫──╫──╫──╫──╫──╫──╫──╫──╫──╫──╫─┤M├\n",
       "      └───┘ ║  ║  ║  ║  ║  ║  ║  ║  ║  ║  ║  ║  ║  ║  ║ └╥┘\n",
       "c: 16/══════╩══╩══╩══╩══╩══╩══╩══╩══╩══╩══╩══╩══╩══╩══╩══╩═\n",
       "            0  1  2  3  4  5  6  7  8  9  10 11 12 13 14 15</pre>"
      ],
      "text/plain": [
       "      ┌───┐┌─┐                                             \n",
       " q_0: ┤ H ├┤M├─────────────────────────────────────────────\n",
       "      ├───┤└╥┘┌─┐                                          \n",
       " q_1: ┤ H ├─╫─┤M├──────────────────────────────────────────\n",
       "      ├───┤ ║ └╥┘┌─┐                                       \n",
       " q_2: ┤ H ├─╫──╫─┤M├───────────────────────────────────────\n",
       "      ├───┤ ║  ║ └╥┘┌─┐                                    \n",
       " q_3: ┤ H ├─╫──╫──╫─┤M├────────────────────────────────────\n",
       "      ├───┤ ║  ║  ║ └╥┘┌─┐                                 \n",
       " q_4: ┤ H ├─╫──╫──╫──╫─┤M├─────────────────────────────────\n",
       "      ├───┤ ║  ║  ║  ║ └╥┘┌─┐                              \n",
       " q_5: ┤ H ├─╫──╫──╫──╫──╫─┤M├──────────────────────────────\n",
       "      ├───┤ ║  ║  ║  ║  ║ └╥┘┌─┐                           \n",
       " q_6: ┤ H ├─╫──╫──╫──╫──╫──╫─┤M├───────────────────────────\n",
       "      ├───┤ ║  ║  ║  ║  ║  ║ └╥┘┌─┐                        \n",
       " q_7: ┤ H ├─╫──╫──╫──╫──╫──╫──╫─┤M├────────────────────────\n",
       "      ├───┤ ║  ║  ║  ║  ║  ║  ║ └╥┘┌─┐                     \n",
       " q_8: ┤ H ├─╫──╫──╫──╫──╫──╫──╫──╫─┤M├─────────────────────\n",
       "      ├───┤ ║  ║  ║  ║  ║  ║  ║  ║ └╥┘┌─┐                  \n",
       " q_9: ┤ H ├─╫──╫──╫──╫──╫──╫──╫──╫──╫─┤M├──────────────────\n",
       "      ├───┤ ║  ║  ║  ║  ║  ║  ║  ║  ║ └╥┘┌─┐               \n",
       "q_10: ┤ H ├─╫──╫──╫──╫──╫──╫──╫──╫──╫──╫─┤M├───────────────\n",
       "      ├───┤ ║  ║  ║  ║  ║  ║  ║  ║  ║  ║ └╥┘┌─┐            \n",
       "q_11: ┤ H ├─╫──╫──╫──╫──╫──╫──╫──╫──╫──╫──╫─┤M├────────────\n",
       "      ├───┤ ║  ║  ║  ║  ║  ║  ║  ║  ║  ║  ║ └╥┘┌─┐         \n",
       "q_12: ┤ H ├─╫──╫──╫──╫──╫──╫──╫──╫──╫──╫──╫──╫─┤M├─────────\n",
       "      ├───┤ ║  ║  ║  ║  ║  ║  ║  ║  ║  ║  ║  ║ └╥┘┌─┐      \n",
       "q_13: ┤ H ├─╫──╫──╫──╫──╫──╫──╫──╫──╫──╫──╫──╫──╫─┤M├──────\n",
       "      ├───┤ ║  ║  ║  ║  ║  ║  ║  ║  ║  ║  ║  ║  ║ └╥┘┌─┐   \n",
       "q_14: ┤ H ├─╫──╫──╫──╫──╫──╫──╫──╫──╫──╫──╫──╫──╫──╫─┤M├───\n",
       "      ├───┤ ║  ║  ║  ║  ║  ║  ║  ║  ║  ║  ║  ║  ║  ║ └╥┘┌─┐\n",
       "q_15: ┤ H ├─╫──╫──╫──╫──╫──╫──╫──╫──╫──╫──╫──╫──╫──╫──╫─┤M├\n",
       "      └───┘ ║  ║  ║  ║  ║  ║  ║  ║  ║  ║  ║  ║  ║  ║  ║ └╥┘\n",
       "c: 16/══════╩══╩══╩══╩══╩══╩══╩══╩══╩══╩══╩══╩══╩══╩══╩══╩═\n",
       "            0  1  2  3  4  5  6  7  8  9  10 11 12 13 14 15"
      ]
     },
     "execution_count": 7,
     "metadata": {},
     "output_type": "execute_result"
    }
   ],
   "source": [
    "circuit.draw()"
   ]
  },
  {
   "cell_type": "code",
   "execution_count": 8,
   "id": "babd2be3-a188-4743-9df2-314c5684cef5",
   "metadata": {},
   "outputs": [],
   "source": [
    "simulator = AerSimulator()"
   ]
  },
  {
   "cell_type": "code",
   "execution_count": 9,
   "id": "e0ee2e31-0283-4202-8685-a1930c968bd4",
   "metadata": {},
   "outputs": [],
   "source": [
    "transpiled_circuit = transpile(circuit, simulator)"
   ]
  },
  {
   "cell_type": "code",
   "execution_count": 10,
   "id": "fcb61c43-3f99-4fb9-a06e-41427a3cc14c",
   "metadata": {},
   "outputs": [],
   "source": [
    "job = simulator.run(transpiled_circuit, shots=1)"
   ]
  },
  {
   "cell_type": "code",
   "execution_count": 11,
   "id": "12170b30-75df-4688-988c-cc8b0b8098f6",
   "metadata": {},
   "outputs": [
    {
     "name": "stdout",
     "output_type": "stream",
     "text": [
      "Executing Job.....\n"
     ]
    }
   ],
   "source": [
    "print(\"Executing Job.....\")\n",
    "result = job.result()"
   ]
  },
  {
   "cell_type": "code",
   "execution_count": 12,
   "id": "4b55123f-50be-44a1-8354-5f9cb09fc497",
   "metadata": {},
   "outputs": [
    {
     "name": "stdout",
     "output_type": "stream",
     "text": [
      "Result:  {'0101011010110001': 1}\n"
     ]
    }
   ],
   "source": [
    "counts = result.get_counts(circuit)\n",
    "print(\"Result: \", counts)"
   ]
  },
  {
   "cell_type": "code",
   "execution_count": null,
   "id": "b5506bc9-cd47-4ec2-99fc-8bed70364b8b",
   "metadata": {},
   "outputs": [],
   "source": []
  }
 ],
 "metadata": {
  "kernelspec": {
   "display_name": "Qiskit Env",
   "language": "python",
   "name": "qiskit_env"
  },
  "language_info": {
   "codemirror_mode": {
    "name": "ipython",
    "version": 3
   },
   "file_extension": ".py",
   "mimetype": "text/x-python",
   "name": "python",
   "nbconvert_exporter": "python",
   "pygments_lexer": "ipython3",
   "version": "3.11.9"
  }
 },
 "nbformat": 4,
 "nbformat_minor": 5
}

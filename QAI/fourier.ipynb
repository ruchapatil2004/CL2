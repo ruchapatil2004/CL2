{
 "cells": [
  {
   "cell_type": "code",
   "execution_count": 1,
   "id": "6d457800-578f-44bd-b541-2648561104dc",
   "metadata": {},
   "outputs": [],
   "source": [
    "import numpy as np\n",
    "from qiskit import QuantumRegister, ClassicalRegister\n",
    "from qiskit import QuantumCircuit,transpile\n",
    "from qiskit_aer import AerSimulator\n",
    "from qiskit.circuit.library import QFT"
   ]
  },
  {
   "cell_type": "code",
   "execution_count": 2,
   "id": "c2ae854b-04a0-49fa-8c58-fd32bca4bcfe",
   "metadata": {},
   "outputs": [],
   "source": [
    "# Set up the AerSimulator backend\n",
    "simulator = AerSimulator()"
   ]
  },
  {
   "cell_type": "code",
   "execution_count": 3,
   "id": "deab07c5-f365-4e03-8946-7a8c461d2e1b",
   "metadata": {},
   "outputs": [],
   "source": [
    "q = QuantumRegister(5,'q')\n",
    "c = ClassicalRegister(5,'c')"
   ]
  },
  {
   "cell_type": "code",
   "execution_count": 4,
   "id": "188af652-ca11-45ca-8ff2-02df576de5a4",
   "metadata": {},
   "outputs": [],
   "source": [
    "circuit = QuantumCircuit(q,c)"
   ]
  },
  {
   "cell_type": "code",
   "execution_count": 5,
   "id": "083ee801-da05-4e88-ae7d-952192e30676",
   "metadata": {},
   "outputs": [
    {
     "data": {
      "text/plain": [
       "<qiskit.circuit.instructionset.InstructionSet at 0x2b2256615d0>"
      ]
     },
     "execution_count": 5,
     "metadata": {},
     "output_type": "execute_result"
    }
   ],
   "source": [
    "circuit.h(q)"
   ]
  },
  {
   "cell_type": "code",
   "execution_count": 6,
   "id": "1af5c6a9-aa12-4912-b08b-53cbf31b5722",
   "metadata": {},
   "outputs": [
    {
     "data": {
      "text/plain": [
       "<qiskit.circuit.instructionset.InstructionSet at 0x2b225661570>"
      ]
     },
     "execution_count": 6,
     "metadata": {},
     "output_type": "execute_result"
    }
   ],
   "source": [
    "circuit.x(q[4])\n",
    "circuit.x(q[2])\n",
    "circuit.x(q[0])"
   ]
  },
  {
   "cell_type": "code",
   "execution_count": 7,
   "id": "903bd9c7-2916-46dd-93e0-9a0ac5d01931",
   "metadata": {},
   "outputs": [],
   "source": [
    "qft_circuit = QFT(num_qubits=5, approximation_degree=0, do_swaps=True, inverse=False,insert_barriers=False, name='qft')\n",
    "circuit = circuit.compose(qft_circuit)"
   ]
  },
  {
   "cell_type": "code",
   "execution_count": 8,
   "id": "2e015d9a-1e2a-4512-ba60-b3c0dd9168c1",
   "metadata": {},
   "outputs": [
    {
     "name": "stdout",
     "output_type": "stream",
     "text": [
      "Requirement already satisfied: pylatexenc in c:\\users\\hp\\qiskit_env\\lib\\site-packages (2.10)\n",
      "Note: you may need to restart the kernel to use updated packages.\n"
     ]
    }
   ],
   "source": [
    "pip install pylatexenc\n"
   ]
  },
  {
   "cell_type": "code",
   "execution_count": 9,
   "id": "9563f65d-60e8-4835-8df0-e3dd254b9364",
   "metadata": {},
   "outputs": [
    {
     "name": "stdout",
     "output_type": "stream",
     "text": [
      "     ┌───┐┌───┐┌──────┐┌─┐            \n",
      "q_0: ┤ H ├┤ X ├┤0     ├┤M├────────────\n",
      "     ├───┤└───┘│      │└╥┘┌─┐         \n",
      "q_1: ┤ H ├─────┤1     ├─╫─┤M├─────────\n",
      "     ├───┤┌───┐│      │ ║ └╥┘┌─┐      \n",
      "q_2: ┤ H ├┤ X ├┤2 qft ├─╫──╫─┤M├──────\n",
      "     ├───┤└───┘│      │ ║  ║ └╥┘┌─┐   \n",
      "q_3: ┤ H ├─────┤3     ├─╫──╫──╫─┤M├───\n",
      "     ├───┤┌───┐│      │ ║  ║  ║ └╥┘┌─┐\n",
      "q_4: ┤ H ├┤ X ├┤4     ├─╫──╫──╫──╫─┤M├\n",
      "     └───┘└───┘└──────┘ ║  ║  ║  ║ └╥┘\n",
      "c: 5/═══════════════════╩══╩══╩══╩══╩═\n",
      "                        0  1  2  3  4 \n"
     ]
    }
   ],
   "source": [
    "circuit.measure(q,c)\n",
    "circuit.draw(output='mpl', filename='qft1.png')\n",
    "print(circuit)"
   ]
  },
  {
   "cell_type": "code",
   "execution_count": 13,
   "id": "48b05691-4361-4704-8008-4d517a2bfaa3",
   "metadata": {},
   "outputs": [],
   "source": [
    "transpiled_circuit = transpile(circuit, simulator)"
   ]
  },
  {
   "cell_type": "code",
   "execution_count": 14,
   "id": "0df207fe-0157-4fe2-b0dd-a2b90b552725",
   "metadata": {},
   "outputs": [],
   "source": [
    "job = simulator.run(transpiled_circuit,shots=1000)"
   ]
  },
  {
   "cell_type": "code",
   "execution_count": 16,
   "id": "23328b01-c485-4157-98d7-6150a405722c",
   "metadata": {},
   "outputs": [],
   "source": [
    "from qiskit.providers.jobstatus import JobStatus"
   ]
  },
  {
   "cell_type": "code",
   "execution_count": 17,
   "id": "31cd696f-96b2-4ea0-bfb4-b9c95f2b8959",
   "metadata": {},
   "outputs": [
    {
     "name": "stdout",
     "output_type": "stream",
     "text": [
      "Job is running...\n",
      "Final job status: JobStatus.DONE\n"
     ]
    }
   ],
   "source": [
    "print(\"Job is running...\")\n",
    "while job.status() not in [JobStatus.DONE, JobStatus.ERROR]:\n",
    "    print(f\"Job status: {job.status()}\")\n",
    "    time.sleep(5)  # Wait for 5 seconds before checking again\n",
    "print(f\"Final job status: {job.status()}\")"
   ]
  },
  {
   "cell_type": "code",
   "execution_count": 18,
   "id": "32800748-64dd-46e3-9f39-bc0c8284a2c7",
   "metadata": {},
   "outputs": [
    {
     "name": "stdout",
     "output_type": "stream",
     "text": [
      "\n",
      " QFT Output\n",
      "-------------\n",
      "{'00000': 1000}\n"
     ]
    }
   ],
   "source": [
    "job_result = job.result()\n",
    "counts = job_result.get_counts()\n",
    "print(\"\\n QFT Output\")\n",
    "print(\"-------------\")\n",
    "print(counts)"
   ]
  },
  {
   "cell_type": "code",
   "execution_count": null,
   "id": "5d3df74a-2cf5-414d-9220-cd113e9ae878",
   "metadata": {},
   "outputs": [],
   "source": []
  }
 ],
 "metadata": {
  "kernelspec": {
   "display_name": "Qiskit Env",
   "language": "python",
   "name": "qiskit_env"
  },
  "language_info": {
   "codemirror_mode": {
    "name": "ipython",
    "version": 3
   },
   "file_extension": ".py",
   "mimetype": "text/x-python",
   "name": "python",
   "nbconvert_exporter": "python",
   "pygments_lexer": "ipython3",
   "version": "3.11.9"
  }
 },
 "nbformat": 4,
 "nbformat_minor": 5
}
